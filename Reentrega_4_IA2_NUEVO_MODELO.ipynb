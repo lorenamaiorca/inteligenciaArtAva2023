{
 "cells": [
  {
   "cell_type": "code",
   "execution_count": 1,
   "metadata": {},
   "outputs": [
    {
     "name": "stderr",
     "output_type": "stream",
     "text": [
      "D:\\Anaconda3\\envs\\k310\\lib\\site-packages\\h5py\\__init__.py:36: UserWarning: h5py is running against HDF5 1.12.2 when it was built against 1.12.1, this may cause problems\n",
      "  _warn((\"h5py is running against HDF5 {0} when it was built against {1}, \"\n"
     ]
    }
   ],
   "source": [
    "import pandas as pd\n",
    "import tensorflow as tf\n",
    "from sklearn.model_selection import train_test_split\n",
    "from sklearn.preprocessing import StandardScaler\n",
    "import numpy as np\n",
    "from sklearn.linear_model import LinearRegression"
   ]
  },
  {
   "cell_type": "code",
   "execution_count": 2,
   "metadata": {},
   "outputs": [
    {
     "data": {
      "text/plain": [
       "(81, 5)"
      ]
     },
     "execution_count": 2,
     "metadata": {},
     "output_type": "execute_result"
    }
   ],
   "source": [
    "dataset = pd.read_csv('data/data_ia_2_albino.csv' , sep='|')\n",
    "dataset.shape"
   ]
  },
  {
   "cell_type": "code",
   "execution_count": 3,
   "metadata": {},
   "outputs": [
    {
     "data": {
      "text/plain": [
       "((59, 1), (22, 1), (59,), (22,))"
      ]
     },
     "execution_count": 3,
     "metadata": {},
     "output_type": "execute_result"
    }
   ],
   "source": [
    "X = dataset.iloc[: , 1 : 2 ].values # PRECIO DE COMPRAS EN EL SUPER\n",
    "y = dataset.iloc[:, -1].values\n",
    "\n",
    "X_bis, X_para_validaciones, y_bis, y_para_validaciones = train_test_split(X, y, test_size = 0.26, random_state = 3768, shuffle=False)\n",
    "X_bis.shape, X_para_validaciones.shape, y_bis.shape, y_para_validaciones.shape"
   ]
  },
  {
   "cell_type": "code",
   "execution_count": 4,
   "metadata": {},
   "outputs": [
    {
     "data": {
      "text/plain": [
       "((53, 1), (6, 1), (53,), (6,))"
      ]
     },
     "execution_count": 4,
     "metadata": {},
     "output_type": "execute_result"
    }
   ],
   "source": [
    "# DATASETS PARA ENTRNAR Y TESTEAR EL MODELO (DURANTE EL ENTRENAMIENTO )\n",
    "X_train, X_test, y_train, y_test = train_test_split(X_bis, y_bis, test_size = 0.1, random_state = 3768, shuffle=False)\n",
    "X_train.shape, X_test.shape, y_train.shape, y_test.shape"
   ]
  },
  {
   "cell_type": "code",
   "execution_count": 5,
   "metadata": {},
   "outputs": [],
   "source": [
    "media_y = y.mean()\n",
    "desvio_estandar_y = y.std()"
   ]
  },
  {
   "cell_type": "code",
   "execution_count": null,
   "metadata": {},
   "outputs": [],
   "source": []
  },
  {
   "cell_type": "code",
   "execution_count": 6,
   "metadata": {},
   "outputs": [
    {
     "data": {
      "text/html": [
       "<style>#sk-container-id-1 {color: black;background-color: white;}#sk-container-id-1 pre{padding: 0;}#sk-container-id-1 div.sk-toggleable {background-color: white;}#sk-container-id-1 label.sk-toggleable__label {cursor: pointer;display: block;width: 100%;margin-bottom: 0;padding: 0.3em;box-sizing: border-box;text-align: center;}#sk-container-id-1 label.sk-toggleable__label-arrow:before {content: \"▸\";float: left;margin-right: 0.25em;color: #696969;}#sk-container-id-1 label.sk-toggleable__label-arrow:hover:before {color: black;}#sk-container-id-1 div.sk-estimator:hover label.sk-toggleable__label-arrow:before {color: black;}#sk-container-id-1 div.sk-toggleable__content {max-height: 0;max-width: 0;overflow: hidden;text-align: left;background-color: #f0f8ff;}#sk-container-id-1 div.sk-toggleable__content pre {margin: 0.2em;color: black;border-radius: 0.25em;background-color: #f0f8ff;}#sk-container-id-1 input.sk-toggleable__control:checked~div.sk-toggleable__content {max-height: 200px;max-width: 100%;overflow: auto;}#sk-container-id-1 input.sk-toggleable__control:checked~label.sk-toggleable__label-arrow:before {content: \"▾\";}#sk-container-id-1 div.sk-estimator input.sk-toggleable__control:checked~label.sk-toggleable__label {background-color: #d4ebff;}#sk-container-id-1 div.sk-label input.sk-toggleable__control:checked~label.sk-toggleable__label {background-color: #d4ebff;}#sk-container-id-1 input.sk-hidden--visually {border: 0;clip: rect(1px 1px 1px 1px);clip: rect(1px, 1px, 1px, 1px);height: 1px;margin: -1px;overflow: hidden;padding: 0;position: absolute;width: 1px;}#sk-container-id-1 div.sk-estimator {font-family: monospace;background-color: #f0f8ff;border: 1px dotted black;border-radius: 0.25em;box-sizing: border-box;margin-bottom: 0.5em;}#sk-container-id-1 div.sk-estimator:hover {background-color: #d4ebff;}#sk-container-id-1 div.sk-parallel-item::after {content: \"\";width: 100%;border-bottom: 1px solid gray;flex-grow: 1;}#sk-container-id-1 div.sk-label:hover label.sk-toggleable__label {background-color: #d4ebff;}#sk-container-id-1 div.sk-serial::before {content: \"\";position: absolute;border-left: 1px solid gray;box-sizing: border-box;top: 0;bottom: 0;left: 50%;z-index: 0;}#sk-container-id-1 div.sk-serial {display: flex;flex-direction: column;align-items: center;background-color: white;padding-right: 0.2em;padding-left: 0.2em;position: relative;}#sk-container-id-1 div.sk-item {position: relative;z-index: 1;}#sk-container-id-1 div.sk-parallel {display: flex;align-items: stretch;justify-content: center;background-color: white;position: relative;}#sk-container-id-1 div.sk-item::before, #sk-container-id-1 div.sk-parallel-item::before {content: \"\";position: absolute;border-left: 1px solid gray;box-sizing: border-box;top: 0;bottom: 0;left: 50%;z-index: -1;}#sk-container-id-1 div.sk-parallel-item {display: flex;flex-direction: column;z-index: 1;position: relative;background-color: white;}#sk-container-id-1 div.sk-parallel-item:first-child::after {align-self: flex-end;width: 50%;}#sk-container-id-1 div.sk-parallel-item:last-child::after {align-self: flex-start;width: 50%;}#sk-container-id-1 div.sk-parallel-item:only-child::after {width: 0;}#sk-container-id-1 div.sk-dashed-wrapped {border: 1px dashed gray;margin: 0 0.4em 0.5em 0.4em;box-sizing: border-box;padding-bottom: 0.4em;background-color: white;}#sk-container-id-1 div.sk-label label {font-family: monospace;font-weight: bold;display: inline-block;line-height: 1.2em;}#sk-container-id-1 div.sk-label-container {text-align: center;}#sk-container-id-1 div.sk-container {/* jupyter's `normalize.less` sets `[hidden] { display: none; }` but bootstrap.min.css set `[hidden] { display: none !important; }` so we also need the `!important` here to be able to override the default hidden behavior on the sphinx rendered scikit-learn.org. See: https://github.com/scikit-learn/scikit-learn/issues/21755 */display: inline-block !important;position: relative;}#sk-container-id-1 div.sk-text-repr-fallback {display: none;}</style><div id=\"sk-container-id-1\" class=\"sk-top-container\"><div class=\"sk-text-repr-fallback\"><pre>LinearRegression()</pre><b>In a Jupyter environment, please rerun this cell to show the HTML representation or trust the notebook. <br />On GitHub, the HTML representation is unable to render, please try loading this page with nbviewer.org.</b></div><div class=\"sk-container\" hidden><div class=\"sk-item\"><div class=\"sk-estimator sk-toggleable\"><input class=\"sk-toggleable__control sk-hidden--visually\" id=\"sk-estimator-id-1\" type=\"checkbox\" checked><label for=\"sk-estimator-id-1\" class=\"sk-toggleable__label sk-toggleable__label-arrow\">LinearRegression</label><div class=\"sk-toggleable__content\"><pre>LinearRegression()</pre></div></div></div></div></div>"
      ],
      "text/plain": [
       "LinearRegression()"
      ]
     },
     "execution_count": 6,
     "metadata": {},
     "output_type": "execute_result"
    }
   ],
   "source": [
    "# CREAMOS NUESTRO NUVO MODELO : UNA REGRESIÓN \n",
    "regressor = LinearRegression()\n",
    "\n",
    "#LO ENTRENAMOS\n",
    "regressor.fit(X_train, y_train)"
   ]
  },
  {
   "cell_type": "code",
   "execution_count": 7,
   "metadata": {},
   "outputs": [
    {
     "name": "stdout",
     "output_type": "stream",
     "text": [
      "ERROR RELATIVO % 0.03030645663184217 || ERROR ABSOLUTO : 14.66832500981161\n",
      "ERROR RELATIVO % 0.019238034251397137 || ERROR ABSOLUTO : 9.580541057195774\n",
      "ERROR RELATIVO % 0.011292735048538602 || ERROR ABSOLUTO : 5.759294874754687\n",
      "ERROR RELATIVO % 0.05920807187832905 || ERROR ABSOLUTO : 31.261861951757737\n",
      "ERROR RELATIVO % 0.038590174090966024 || ERROR ABSOLUTO : 21.108825227758416\n",
      "ERROR RELATIVO % 0.02150806581657638 || ERROR ABSOLUTO : 12.066024923099349\n"
     ]
    }
   ],
   "source": [
    "y_pred = regressor.predict(X_test)\n",
    "for i in range(len(y_pred)):\n",
    "    error_absoluto = abs(y_test[i] - y_pred[i])\n",
    "    error_relativo = abs(error_absoluto / y_test[i])\n",
    "\n",
    "    line_info = f\"ERROR RELATIVO % {error_relativo} || ERROR ABSOLUTO : {error_absoluto}\"\n",
    "    print(line_info)"
   ]
  },
  {
   "cell_type": "code",
   "execution_count": 8,
   "metadata": {},
   "outputs": [],
   "source": [
    "# pareciera un modelo \"bueno\", probemos con los dataset de validaciones que sacamos al principio y \n",
    "# tratemos de jugar para ver lo bien que funciona "
   ]
  },
  {
   "cell_type": "code",
   "execution_count": 9,
   "metadata": {},
   "outputs": [
    {
     "name": "stdout",
     "output_type": "stream",
     "text": [
      "ERROR RELATIVO % 0.21947092716217506 || ERROR ABSOLUTO : 163.64807417612428\n",
      "ERROR RELATIVO % 0.03257958184154622 || ERROR ABSOLUTO : 20.374437673804664\n",
      "ERROR RELATIVO % 0.027719029197553507 || ERROR ABSOLUTO : 17.072901234252186\n",
      "ERROR RELATIVO % 0.012300785393251999 || ERROR ABSOLUTO : 8.418889883545262\n",
      "ERROR RELATIVO % 0.0012944731995741924 || ERROR ABSOLUTO : 0.9293402901936361\n",
      "ERROR RELATIVO % 0.03444476440771395 || ERROR ABSOLUTO : 25.073264896709247\n",
      "ERROR RELATIVO % 0.002723375340816436 || ERROR ABSOLUTO : 2.165534207728456\n",
      "ERROR RELATIVO % 0.0801059909116345 || ERROR ABSOLUTO : 74.19366098965043\n",
      "ERROR RELATIVO % 0.004527543186132861 || ERROR ABSOLUTO : 4.143351043351117\n",
      "ERROR RELATIVO % 0.026248506200698855 || ERROR ABSOLUTO : 24.733098604006045\n",
      "ERROR RELATIVO % 0.04638985250667042 || ERROR ABSOLUTO : 50.057309430736495\n",
      "ERROR RELATIVO % 0.06749942904393001 || ERROR ABSOLUTO : 78.10384916303883\n",
      "ERROR RELATIVO % 0.2240650223360568 || ERROR ABSOLUTO : 327.75143236495205\n",
      "ERROR RELATIVO % 0.0651744934771652 || ERROR ABSOLUTO : 83.87117714049509\n",
      "ERROR RELATIVO % 0.008788760109060037 || ERROR ABSOLUTO : 11.37595980163087\n",
      "ERROR RELATIVO % 0.06497063056472292 || ERROR ABSOLUTO : 95.95895459847702\n",
      "ERROR RELATIVO % 0.0461779934970755 || ERROR ABSOLUTO : 72.47521633367774\n",
      "ERROR RELATIVO % 0.0201890259141739 || ERROR ABSOLUTO : 31.940245383719684\n",
      "ERROR RELATIVO % 0.013055553024975424 || ERROR ABSOLUTO : 22.620316413080673\n",
      "ERROR RELATIVO % 0.07472263778544246 || ERROR ABSOLUTO : 146.81625320304101\n",
      "ERROR RELATIVO % 0.06593150023701172 || ERROR ABSOLUTO : 144.27634217259993\n",
      "ERROR RELATIVO % 0.03508265173677546 || ERROR ABSOLUTO : 83.80563620171097\n"
     ]
    }
   ],
   "source": [
    "y_val = regressor.predict(X_para_validaciones)\n",
    "resultados = []\n",
    "\n",
    "for i in range(len(y_val)):\n",
    "    IPC_Real = y_para_validaciones[i]\n",
    "    IPC_predecido = y_val[i]\n",
    "    error_absoluto = abs(IPC_Real - y_val[i])\n",
    "    error_relativo = abs(error_absoluto / y_val[i])\n",
    "\n",
    "    line_info = f\"ERROR RELATIVO % {error_relativo} || ERROR ABSOLUTO : {error_absoluto}\"\n",
    "    \n",
    "    tupla_resultado = (float(IPC_Real), IPC_predecido, error_absoluto, error_relativo)\n",
    "    resultados.append(tupla_resultado)    \n",
    "    print(line_info)\n"
   ]
  },
  {
   "cell_type": "code",
   "execution_count": null,
   "metadata": {},
   "outputs": [],
   "source": []
  },
  {
   "cell_type": "code",
   "execution_count": 10,
   "metadata": {},
   "outputs": [
    {
     "name": "stdout",
     "output_type": "stream",
     "text": [
      "Done!\n"
     ]
    }
   ],
   "source": [
    "#######################################################################################\n",
    "#######################################################################################\n",
    "# ESCRIBIMOS LOS RESULTADOS EN UN ARCHIVO PARA LUEGO ARMAR LOS GRÁFICOS DE ERROR EN EXCEL\n",
    "#######################################################################################\n",
    "#######################################################################################\n",
    "\n",
    "def guardar_en_archivo(lista_de_tuplas):\n",
    "    csv_file = 'saved.tsv'\n",
    "    file = open(csv_file, 'w')\n",
    "    \n",
    "    for tupla in lista_de_tuplas:\n",
    "        tupla = map(str, tupla)\n",
    "        row = '\\t'.join(tupla)\n",
    "        row = row + '\\n'\n",
    "        file.writelines(row)\n",
    "    \n",
    "    file.close()\n",
    "    print('Done!')\n",
    "\n",
    "#guardar_en_archivo(resultados)"
   ]
  },
  {
   "cell_type": "code",
   "execution_count": null,
   "metadata": {},
   "outputs": [],
   "source": []
  },
  {
   "cell_type": "code",
   "execution_count": null,
   "metadata": {},
   "outputs": [],
   "source": [
    "\n"
   ]
  },
  {
   "cell_type": "code",
   "execution_count": null,
   "metadata": {},
   "outputs": [],
   "source": []
  },
  {
   "cell_type": "code",
   "execution_count": null,
   "metadata": {},
   "outputs": [],
   "source": []
  },
  {
   "cell_type": "code",
   "execution_count": null,
   "metadata": {},
   "outputs": [],
   "source": []
  },
  {
   "cell_type": "code",
   "execution_count": null,
   "metadata": {},
   "outputs": [],
   "source": []
  },
  {
   "cell_type": "code",
   "execution_count": null,
   "metadata": {
    "scrolled": true
   },
   "outputs": [],
   "source": []
  },
  {
   "cell_type": "code",
   "execution_count": null,
   "metadata": {},
   "outputs": [],
   "source": []
  },
  {
   "cell_type": "code",
   "execution_count": null,
   "metadata": {},
   "outputs": [],
   "source": []
  },
  {
   "cell_type": "code",
   "execution_count": null,
   "metadata": {},
   "outputs": [],
   "source": []
  },
  {
   "cell_type": "code",
   "execution_count": null,
   "metadata": {},
   "outputs": [],
   "source": []
  },
  {
   "cell_type": "code",
   "execution_count": null,
   "metadata": {},
   "outputs": [],
   "source": []
  },
  {
   "cell_type": "code",
   "execution_count": null,
   "metadata": {},
   "outputs": [],
   "source": []
  },
  {
   "cell_type": "code",
   "execution_count": null,
   "metadata": {},
   "outputs": [],
   "source": []
  },
  {
   "cell_type": "code",
   "execution_count": null,
   "metadata": {},
   "outputs": [],
   "source": []
  },
  {
   "cell_type": "code",
   "execution_count": null,
   "metadata": {},
   "outputs": [],
   "source": []
  },
  {
   "cell_type": "code",
   "execution_count": null,
   "metadata": {},
   "outputs": [],
   "source": []
  },
  {
   "cell_type": "code",
   "execution_count": null,
   "metadata": {},
   "outputs": [],
   "source": []
  },
  {
   "cell_type": "code",
   "execution_count": null,
   "metadata": {},
   "outputs": [],
   "source": []
  },
  {
   "cell_type": "code",
   "execution_count": null,
   "metadata": {},
   "outputs": [],
   "source": []
  },
  {
   "cell_type": "code",
   "execution_count": null,
   "metadata": {},
   "outputs": [],
   "source": []
  },
  {
   "cell_type": "code",
   "execution_count": null,
   "metadata": {},
   "outputs": [],
   "source": []
  },
  {
   "cell_type": "code",
   "execution_count": null,
   "metadata": {},
   "outputs": [],
   "source": []
  }
 ],
 "metadata": {
  "kernelspec": {
   "display_name": "k310",
   "language": "python",
   "name": "k310"
  },
  "language_info": {
   "codemirror_mode": {
    "name": "ipython",
    "version": 3
   },
   "file_extension": ".py",
   "mimetype": "text/x-python",
   "name": "python",
   "nbconvert_exporter": "python",
   "pygments_lexer": "ipython3",
   "version": "3.10.6"
  }
 },
 "nbformat": 4,
 "nbformat_minor": 4
}
